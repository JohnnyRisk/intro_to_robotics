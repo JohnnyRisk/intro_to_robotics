{
 "cells": [
  {
   "cell_type": "code",
   "execution_count": 12,
   "metadata": {
    "collapsed": false,
    "deletable": true,
    "editable": true
   },
   "outputs": [
    {
     "name": "stdout",
     "output_type": "stream",
     "text": [
      "error\n",
      "You got it right! It took you  3  steps to localize.\n"
     ]
    },
    {
     "data": {
      "text/plain": [
       "True"
      ]
     },
     "execution_count": 12,
     "metadata": {},
     "output_type": "execute_result"
    }
   ],
   "source": [
    "# ----------\n",
    "# Background\n",
    "# \n",
    "# A robotics company named Trax has created a line of small self-driving robots \n",
    "# designed to autonomously traverse desert environments in search of undiscovered\n",
    "# water deposits.\n",
    "#\n",
    "# A Traxbot looks like a small tank. Each one is about half a meter long and drives\n",
    "# on two continuous metal tracks. In order to maneuver itself, a Traxbot can do one\n",
    "# of two things: it can drive in a straight line or it can turn. So to make a \n",
    "# right turn, A Traxbot will drive forward, stop, turn 90 degrees, then continue\n",
    "# driving straight.\n",
    "#\n",
    "# This series of questions involves the recovery of a rogue Traxbot. This bot has \n",
    "# gotten lost somewhere in the desert and is now stuck driving in an almost-circle: it has\n",
    "# been repeatedly driving forward by some step size, stopping, turning a certain \n",
    "# amount, and repeating this process... Luckily, the Traxbot is still sending all\n",
    "# of its sensor data back to headquarters.\n",
    "#\n",
    "# In this project, we will start with a simple version of this problem and \n",
    "# gradually add complexity. By the end, you will have a fully articulated\n",
    "# plan for recovering the lost Traxbot.\n",
    "# \n",
    "# ----------\n",
    "# Part One\n",
    "#\n",
    "# Let's start by thinking about circular motion (well, really it's polygon motion\n",
    "# that is close to circular motion). Assume that Traxbot lives on \n",
    "# an (x, y) coordinate plane and (for now) is sending you PERFECTLY ACCURATE sensor \n",
    "# measurements. \n",
    "#\n",
    "# With a few measurements you should be able to figure out the step size and the \n",
    "# turning angle that Traxbot is moving with.\n",
    "# With these two pieces of information, you should be able to \n",
    "# write a function that can predict Traxbot's next location.\n",
    "#\n",
    "# You can use the robot class that is already written to make your life easier. \n",
    "# You should re-familiarize yourself with this class, since some of the details\n",
    "# have changed. \n",
    "#\n",
    "# ----------\n",
    "# YOUR JOB\n",
    "#\n",
    "# Complete the estimate_next_pos function. You will probably want to use\n",
    "# the OTHER variable to keep track of information about the runaway robot.\n",
    "#\n",
    "# ----------\n",
    "# GRADING\n",
    "# \n",
    "# We will make repeated calls to your estimate_next_pos function. After\n",
    "# each call, we will compare your estimated position to the robot's true\n",
    "# position. As soon as you are within 0.01 stepsizes of the true position,\n",
    "# you will be marked correct and we will tell you how many steps it took\n",
    "# before your function successfully located the target bot.\n",
    "\n",
    "# These import steps give you access to libraries which you may (or may\n",
    "# not) want to use.\n",
    "from robot import *\n",
    "from math import *\n",
    "from matrix import *\n",
    "import random\n",
    "\n",
    "\n",
    "# This is the function you have to write. The argument 'measurement' is a \n",
    "# single (x, y) point. This function will have to be called multiple\n",
    "# times before you have enough information to accurately predict the\n",
    "# next position. The OTHER variable that your function returns will be \n",
    "# passed back to your function the next time it is called. You can use\n",
    "# this to keep track of important information over time.\n",
    "def estimate_next_pos(measurement, OTHER = None):\n",
    "    \"\"\"Estimate the next (x, y) position of the wandering Traxbot\n",
    "    based on noisy (x, y) measurements.\"\"\"\n",
    "\n",
    "    # You must return xy_estimate (x, y), and OTHER (even if it is None) \n",
    "    # in this order for grading purposes.\n",
    "    return xy_estimate, OTHER \n",
    "\n",
    "# A helper function you may find useful.\n",
    "def distance_between(point1, point2):\n",
    "    \"\"\"Computes distance between point1 and point2. Points are (x, y) pairs.\"\"\"\n",
    "    x1, y1 = point1\n",
    "    x2, y2 = point2\n",
    "    return sqrt((x2 - x1) ** 2 + (y2 - y1) ** 2)\n",
    "\n",
    "# This is here to give you a sense for how we will be running and grading\n",
    "# your code. Note that the OTHER variable allows you to store any \n",
    "# information that you want. \n",
    "def demo_grading1(estimate_next_pos_fcn, target_bot, OTHER = None):\n",
    "    localized = False\n",
    "    distance_tolerance = 0.01 * target_bot.distance\n",
    "    ctr = 0\n",
    "    # if you haven't localized the target bot, make a guess about the next\n",
    "    # position, then we move the bot and compare your guess to the true\n",
    "    # next position. When you are close enough, we stop checking.\n",
    "    #For Visualization\n",
    "    import turtle    #You need to run this locally to use the turtle module\n",
    "    window = turtle.Screen()\n",
    "    window.bgcolor('white')\n",
    "    size_multiplier= 25.0  #change Size of animation\n",
    "    broken_robot = turtle.Turtle()\n",
    "    broken_robot.shape('turtle')\n",
    "    broken_robot.color('green')\n",
    "    broken_robot.resizemode('user')\n",
    "    broken_robot.shapesize(0.1, 0.1, 0.1)\n",
    "    measured_broken_robot = turtle.Turtle()\n",
    "    measured_broken_robot.shape('circle')\n",
    "    measured_broken_robot.color('red')\n",
    "    measured_broken_robot.resizemode('user')\n",
    "    measured_broken_robot.shapesize(0.1, 0.1, 0.1)\n",
    "    prediction = turtle.Turtle()\n",
    "    prediction.shape('arrow')\n",
    "    prediction.color('blue')\n",
    "    prediction.resizemode('user')\n",
    "    prediction.shapesize(0.1, 0.1, 0.1)\n",
    "    prediction.penup()\n",
    "    broken_robot.penup()\n",
    "    measured_broken_robot.penup()\n",
    "    #End of Visualization\n",
    "    while not localized and ctr <= 10:\n",
    "        ctr += 1\n",
    "        measurement = target_bot.sense()\n",
    "        position_guess, OTHER = estimate_next_pos_fcn(measurement, OTHER)\n",
    "        target_bot.move_in_circle()\n",
    "        true_position = (target_bot.x, target_bot.y)\n",
    "        error = distance_between(position_guess, true_position)\n",
    "        if error <= distance_tolerance:\n",
    "            print(\"You got it right! It took you \", ctr, \" steps to localize.\")\n",
    "            localized = True\n",
    "        if ctr == 10:\n",
    "            print(\"Sorry, it took you too many steps to localize the target.\")\n",
    "        #More Visualization\n",
    "        measured_broken_robot.setheading(target_bot.heading*180/pi)\n",
    "        measured_broken_robot.goto(measurement[0]*size_multiplier, measurement[1]*size_multiplier-200)\n",
    "        measured_broken_robot.stamp()\n",
    "        broken_robot.setheading(target_bot.heading*180/pi)\n",
    "        broken_robot.goto(target_bot.x*size_multiplier, target_bot.y*size_multiplier-200)\n",
    "        broken_robot.stamp()\n",
    "        prediction.setheading(target_bot.heading*180/pi)\n",
    "        prediction.goto(position_guess[0]*size_multiplier, position_guess[1]*size_multiplier-200)\n",
    "        prediction.stamp()\n",
    "        turtle.exitonclick()\n",
    "        #End of Visualization\n",
    "    return localized\n",
    "def demo_grading(estimate_next_pos_fcn, target_bot, OTHER = None):\n",
    "    localized = False\n",
    "    distance_tolerance = 0.01 * target_bot.distance\n",
    "    ctr = 0\n",
    "    # if you haven't localized the target bot, make a guess about the next\n",
    "    # position, then we move the bot and compare your guess to the true\n",
    "    # next position. When you are close enough, we stop checking.\n",
    "    while not localized and ctr <= 10: \n",
    "        ctr += 1\n",
    "        measurement = target_bot.sense()\n",
    "        position_guess, OTHER = estimate_next_pos_fcn(measurement, OTHER)\n",
    "        target_bot.move_in_circle()\n",
    "        true_position = (target_bot.x, target_bot.y)\n",
    "        error = distance_between(position_guess, true_position)\n",
    "        if error <= distance_tolerance:\n",
    "            print(\"You got it right! It took you \", ctr, \" steps to localize.\")\n",
    "            localized = True\n",
    "        if ctr == 10:\n",
    "            print(\"Sorry, it took you too many steps to localize the target.\")\n",
    "    return localized\n",
    "\n",
    "# This is a demo for what a strategy could look like. This one isn't very good.\n",
    "def naive_next_pos(measurement, OTHER = None):\n",
    "    \"\"\"This strategy records the first reported position of the target and\n",
    "    assumes that eventually the target bot will eventually return to that \n",
    "    position, so it always guesses that the first position will be the next.\"\"\"\n",
    "    if not OTHER: # this is the first measurement\n",
    "        OTHER = measurement\n",
    "    xy_estimate = OTHER \n",
    "    return xy_estimate, OTHER\n",
    "\n",
    "def naive_next_pos(measurement, OTHER = None):\n",
    "    \"\"\"This strategy records the first reported position of the target and\n",
    "    assumes that eventually the target bot will eventually return to that \n",
    "    position, so it always guesses that the first position will be the next.\"\"\"\n",
    "    ## initialize this for the first time\n",
    "    if not OTHER:\n",
    "        OTHER = [[],[],[]]\n",
    "    OTHER[0].append(measurement)\n",
    "    xy_estimate = measurement\n",
    "    \n",
    "    ## the next time we initialize the distance\n",
    "    if len(OTHER[0]) == 2:\n",
    "        sigma_dist = 5\n",
    "        point1 = OTHER[0][-2]\n",
    "        point2 = OTHER[0][-1]\n",
    "        dist, heading = dist_heading(point1,point2)\n",
    "        OTHER[1] = [dist, sigma_dist]\n",
    "        OTHER[2] = [heading]\n",
    "    # This time we initialize the change in heading\n",
    "    elif len(OTHER[0]) == 3: \n",
    "        # get the points\n",
    "        point1 = OTHER[0][-2]\n",
    "        point2 = OTHER[0][-1]\n",
    "        # get the stuff to update distance\n",
    "        mu_old =OTHER[1][0]\n",
    "        sigma_old = OTHER[1][1]\n",
    "        var_obs = 5\n",
    "        # get old heading\n",
    "        old_heading = OTHER[2][0]\n",
    "        heading_sigma = 10\n",
    "        \n",
    "        # get new heading and distance\n",
    "        dist, new_heading = dist_heading(point1,point2)\n",
    "        # update based on uncertainty in our guassians\n",
    "        new_dist_mu, new_dist_sigma = update_guassian(mu_old, sigma_old, dist, var_obs)\n",
    "        # get new change in heading\n",
    "        dheading = change_heading(old_heading, new_heading)\n",
    "        OTHER[1] = [new_dist_mu, new_dist_sigma]\n",
    "        OTHER[2] = [new_heading, dheading, heading_sigma]\n",
    "        xy_estimate = predict_coordinate(point2, new_heading, dheading, new_dist_mu)\n",
    "        \n",
    "    elif len(OTHER[0]) > 3:\n",
    "        # get the points\n",
    "        point1 = OTHER[0][-2]\n",
    "        point2 = OTHER[0][-1]\n",
    "        # get the stuff to update distance\n",
    "        mu_old =OTHER[1][0]\n",
    "        sigma_old = OTHER[1][1]\n",
    "        var_obs = 5\n",
    "        # get old heading\n",
    "        old_heading = OTHER[2][0]\n",
    "        old_dheading = OTHER[2][1]\n",
    "        old_heading_sigma = OTHER[2][2]\n",
    "        heading_sigma = 10\n",
    "        \n",
    "        # get new heading and distance\n",
    "        dist, new_heading = dist_heading(point1,point2)\n",
    "        # update based on uncertainty in our guassians\n",
    "        new_dist_mu, new_dist_sigma = update_guassian(mu_old, sigma_old, dist, var_obs)\n",
    "        # get new change in heading\n",
    "        dheading = change_heading(old_heading, new_heading)\n",
    "        # update change in heading based on uncertainty\n",
    "        dheading_mu, dheading_sigma = update_guassian(old_dheading, old_heading_sigma, dheading, heading_sigma)\n",
    "        OTHER[1] = [new_dist_mu, new_dist_sigma]\n",
    "        OTHER[2] = [new_heading, dheading_mu, dheading_sigma]\n",
    "        xy_estimate = predict_coordinate(point2, new_heading, dheading_mu, new_dist_mu)\n",
    "    else:\n",
    "        print('error')\n",
    "    return xy_estimate, OTHER\n",
    "\n",
    "\n",
    "# This is how we create a target bot. Check the robot.py file to understand\n",
    "# How the robot class behaves.\n",
    "test_target = robot(2.1, 4.3, 0.5, 2*pi / 34.0, 1.5)\n",
    "test_target.set_noise(0.0, 0.0, 0.0)\n",
    "\n",
    "demo_grading(naive_next_pos, test_target)\n"
   ]
  },
  {
   "cell_type": "code",
   "execution_count": 6,
   "metadata": {
    "collapsed": false,
    "deletable": true,
    "editable": true
   },
   "outputs": [
    {
     "data": {
      "text/plain": [
       "4"
      ]
     },
     "execution_count": 6,
     "metadata": {},
     "output_type": "execute_result"
    }
   ],
   "source": [
    "a=[1,2,3,4,5,6]\n",
    "a[-3]"
   ]
  },
  {
   "cell_type": "code",
   "execution_count": 15,
   "metadata": {
    "collapsed": false
   },
   "outputs": [
    {
     "data": {
      "text/plain": [
       "3"
      ]
     },
     "execution_count": 15,
     "metadata": {},
     "output_type": "execute_result"
    }
   ],
   "source": [
    "13%10"
   ]
  },
  {
   "cell_type": "code",
   "execution_count": 16,
   "metadata": {
    "collapsed": false
   },
   "outputs": [
    {
     "data": {
      "text/plain": [
       "1"
      ]
     },
     "execution_count": 16,
     "metadata": {},
     "output_type": "execute_result"
    }
   ],
   "source": [
    "13//10"
   ]
  },
  {
   "cell_type": "code",
   "execution_count": 8,
   "metadata": {
    "collapsed": false
   },
   "outputs": [
    {
     "data": {
      "text/plain": [
       "3"
      ]
     },
     "execution_count": 8,
     "metadata": {},
     "output_type": "execute_result"
    }
   ],
   "source": [
    "l=[[1,2,3],[]]\n",
    "l[0][2]"
   ]
  },
  {
   "cell_type": "code",
   "execution_count": 7,
   "metadata": {
    "collapsed": false,
    "deletable": true,
    "editable": true
   },
   "outputs": [
    {
     "data": {
      "text/plain": [
       "-0.7853981633974483"
      ]
     },
     "execution_count": 7,
     "metadata": {},
     "output_type": "execute_result"
    }
   ],
   "source": [
    "atan(-1)"
   ]
  },
  {
   "cell_type": "code",
   "execution_count": 8,
   "metadata": {
    "collapsed": false,
    "deletable": true,
    "editable": true
   },
   "outputs": [
    {
     "data": {
      "text/plain": [
       "-45.0"
      ]
     },
     "execution_count": 8,
     "metadata": {},
     "output_type": "execute_result"
    }
   ],
   "source": [
    "degrees(atan(-1))"
   ]
  },
  {
   "cell_type": "code",
   "execution_count": 9,
   "metadata": {
    "collapsed": false,
    "deletable": true,
    "editable": true
   },
   "outputs": [],
   "source": [
    "def sign(x):\n",
    "    if x>=0:\n",
    "        sign=1\n",
    "    else:\n",
    "        sign=0\n",
    "    return sign\n",
    "\n",
    "def dist_heading(point1, point2):\n",
    "    dx = point2[0]-point1[0]\n",
    "    dy = point2[1]-point1[1]\n",
    "    hypot = distance_between(point2,point1)\n",
    "\n",
    "    heading = (1-sign(dy)) * (360-degrees(acos(dx/hypot))) + sign(dy)*(degrees(acos(dx/hypot)))\n",
    "    return hypot, heading\n",
    "\n",
    "def change_heading(heading1, heading2):\n",
    "    if abs(heading1 - heading2) > 180:\n",
    "        if heading1 < heading2:\n",
    "            new_heading = (360 - heading2) - heading1\n",
    "        else:\n",
    "            new_heading = (360-heading1) + heading2\n",
    "    else:\n",
    "        new_heading = heading2 - heading1\n",
    "    return new_heading\n",
    "\n",
    "def test_change_heading():\n",
    "    assert change_heading(352,2) == 10\n",
    "    assert change_heading(150,90) == -60\n",
    "    assert change_heading(270,90) == -180\n",
    "    print(\"heading change test passed\")\n",
    "\n",
    "def test_dist_heading():\n",
    "    hypot, heading = dist_heading([1,1],[0,1])\n",
    "    assert hypot ==1\n",
    "    assert heading == 180\n",
    "    hypot, heading = dist_heading([1,1],[-1,-1])\n",
    "    assert hypot ==2*sqrt(2)\n",
    "    assert heading == 225\n",
    "    print('all test_dist and heading passed')\n",
    "    \n",
    "def test_predict_coordinate():\n",
    "    assert predict_coordinate([1,1], 90, 90, 1) == [0.0, 1.0]\n",
    "    assert predict_coordinate([0,0], 90, 45, sqrt(2)) == [-1.0, 1.0]\n",
    "    assert predict_coordinate([0,-1], 315, 90, sqrt(2)) == [1.0, 0.0]\n",
    "    print('test_predicted coordinates pass')\n",
    "\n",
    "def predict_coordinate(point, heading, dheading, ddist):\n",
    "    new_heading = heading + dheading\n",
    "    dy = ddist*sin(new_heading*(2*pi)/360)\n",
    "    dx = ddist*cos(new_heading*(2*pi)/360)\n",
    "    predicted_xy = [round(point[0]+dx,3), round(point[1]+dy,3)]\n",
    "    return predicted_xy\n",
    "def update_guassian(mu_old,sigma_old, obs, var_obs):\n",
    "    mu_prime = (var_obs*mu_old + sigma_old*obs) / (sigma_old + var_obs)\n",
    "    sigma_prime = sigma_old * var_obs / (sigma_old + var_obs)\n",
    "    return mu_prime, sigma_prime"
   ]
  },
  {
   "cell_type": "code",
   "execution_count": 7,
   "metadata": {
    "collapsed": false,
    "deletable": true,
    "editable": true
   },
   "outputs": [
    {
     "name": "stdout",
     "output_type": "stream",
     "text": [
      "heading change test passed\n",
      "all test_dist and heading passed\n",
      "test_predicted coordinates pass\n"
     ]
    }
   ],
   "source": [
    "test_change_heading()\n",
    "test_dist_heading()\n",
    "test_predict_coordinate()"
   ]
  },
  {
   "cell_type": "code",
   "execution_count": 41,
   "metadata": {
    "collapsed": false
   },
   "outputs": [
    {
     "data": {
      "text/plain": [
       "3.0419240010986313"
      ]
     },
     "execution_count": 41,
     "metadata": {},
     "output_type": "execute_result"
    }
   ],
   "source": [
    "atan2(.1,-1)"
   ]
  },
  {
   "cell_type": "code",
   "execution_count": null,
   "metadata": {
    "collapsed": true
   },
   "outputs": [],
   "source": [
    "def angle_trunc(a):\n",
    "    \"\"\"This maps all angles to a domain of [-pi, pi]\"\"\"\n",
    "    while a < 0.0:\n",
    "        a += pi * 2\n",
    "    return ((a + pi) % (pi * 2)) - pi"
   ]
  },
  {
   "cell_type": "code",
   "execution_count": 45,
   "metadata": {
    "collapsed": false
   },
   "outputs": [
    {
     "name": "stdout",
     "output_type": "stream",
     "text": [
      "3.141592653589793\n",
      "-3.141592653589793\n",
      "-3.1405926539231266\n",
      "-3.140592653923127\n"
     ]
    }
   ],
   "source": [
    "print(atan2(0,-1))\n",
    "print(angle_trunc(atan2(0,-1)))\n",
    "\n",
    "print(atan2(-.001,-1))\n",
    "print(angle_trunc(atan2(-.001,-1)))"
   ]
  },
  {
   "cell_type": "code",
   "execution_count": 67,
   "metadata": {
    "collapsed": false,
    "deletable": true,
    "editable": true
   },
   "outputs": [
    {
     "data": {
      "text/plain": [
       "[-1.0, 1.0]"
      ]
     },
     "execution_count": 67,
     "metadata": {},
     "output_type": "execute_result"
    }
   ],
   "source": [
    "predict_coordinate([1,1], 90, 90, 1)\n",
    "predict_coordinate([0,0], 90, 45, sqrt(2))"
   ]
  },
  {
   "cell_type": "code",
   "execution_count": null,
   "metadata": {
    "collapsed": true
   },
   "outputs": [],
   "source": []
  },
  {
   "cell_type": "code",
   "execution_count": 45,
   "metadata": {
    "collapsed": false,
    "deletable": true,
    "editable": true
   },
   "outputs": [
    {
     "data": {
      "text/plain": [
       "(2.8284271247461903, 225.0)"
      ]
     },
     "execution_count": 45,
     "metadata": {},
     "output_type": "execute_result"
    }
   ],
   "source": [
    "dist_heading([1,1],[-1,-1])"
   ]
  },
  {
   "cell_type": "code",
   "execution_count": null,
   "metadata": {
    "collapsed": true
   },
   "outputs": [],
   "source": []
  },
  {
   "cell_type": "code",
   "execution_count": null,
   "metadata": {
    "collapsed": true
   },
   "outputs": [],
   "source": [
    "def update_guassian(mu_old,sigma_old, obs, var_obs):\n",
    "    mu_prime = (var_obs*mu_old + sigma_old*obs) / (sigma_old + var_obs)\n",
    "    sigma_prime = sigma_old * var_obs / (sigma_old + var_obs)\n",
    "    return mu_prime, sigma_prime"
   ]
  },
  {
   "cell_type": "code",
   "execution_count": null,
   "metadata": {
    "collapsed": true,
    "deletable": true,
    "editable": true
   },
   "outputs": [],
   "source": [
    "old_dist, old_heading = dist_heading(point1,point2)\n",
    "new_dist, new_heading = dist_heading(point2,point3)\n",
    "ddist = (old_dist+new_dist)/ 2\n",
    "sigma_dh = 0.1\n",
    "sigma_ddist = 5\n",
    "mu_dh = old_dist\n",
    "mu_ddist\n",
    "\n",
    "dheading = change_heading(old_heading, new_heading)\n",
    "xy_prediction = predict_coordinate(point, heading, dheading, ddist)"
   ]
  },
  {
   "cell_type": "code",
   "execution_count": null,
   "metadata": {
    "collapsed": true
   },
   "outputs": [],
   "source": []
  },
  {
   "cell_type": "code",
   "execution_count": null,
   "metadata": {
    "collapsed": true
   },
   "outputs": [],
   "source": []
  },
  {
   "cell_type": "code",
   "execution_count": null,
   "metadata": {
    "collapsed": true
   },
   "outputs": [],
   "source": []
  },
  {
   "cell_type": "code",
   "execution_count": null,
   "metadata": {
    "collapsed": true
   },
   "outputs": [],
   "source": []
  },
  {
   "cell_type": "code",
   "execution_count": null,
   "metadata": {
    "collapsed": true
   },
   "outputs": [],
   "source": [
    "# ----------\n",
    "# Background\n",
    "# \n",
    "# A robotics company named Trax has created a line of small self-driving robots \n",
    "# designed to autonomously traverse desert environments in search of undiscovered\n",
    "# water deposits.\n",
    "#\n",
    "# A Traxbot looks like a small tank. Each one is about half a meter long and drives\n",
    "# on two continuous metal tracks. In order to maneuver itself, a Traxbot can do one\n",
    "# of two things: it can drive in a straight line or it can turn. So to make a \n",
    "# right turn, A Traxbot will drive forward, stop, turn 90 degrees, then continue\n",
    "# driving straight.\n",
    "#\n",
    "# This series of questions involves the recovery of a rogue Traxbot. This bot has \n",
    "# gotten lost somewhere in the desert and is now stuck driving in an almost-circle: it has\n",
    "# been repeatedly driving forward by some step size, stopping, turning a certain \n",
    "# amount, and repeating this process... Luckily, the Traxbot is still sending all\n",
    "# of its sensor data back to headquarters.\n",
    "#\n",
    "# In this project, we will start with a simple version of this problem and \n",
    "# gradually add complexity. By the end, you will have a fully articulated\n",
    "# plan for recovering the lost Traxbot.\n",
    "# \n",
    "# ----------\n",
    "# Part One\n",
    "#\n",
    "# Let's start by thinking about circular motion (well, really it's polygon motion\n",
    "# that is close to circular motion). Assume that Traxbot lives on \n",
    "# an (x, y) coordinate plane and (for now) is sending you PERFECTLY ACCURATE sensor \n",
    "# measurements. \n",
    "#\n",
    "# With a few measurements you should be able to figure out the step size and the \n",
    "# turning angle that Traxbot is moving with.\n",
    "# With these two pieces of information, you should be able to \n",
    "# write a function that can predict Traxbot's next location.\n",
    "#\n",
    "# You can use the robot class that is already written to make your life easier. \n",
    "# You should re-familiarize yourself with this class, since some of the details\n",
    "# have changed. \n",
    "#\n",
    "# ----------\n",
    "# YOUR JOB\n",
    "#\n",
    "# Complete the estimate_next_pos function. You will probably want to use\n",
    "# the OTHER variable to keep track of information about the runaway robot.\n",
    "#\n",
    "# ----------\n",
    "# GRADING\n",
    "# \n",
    "# We will make repeated calls to your estimate_next_pos function. After\n",
    "# each call, we will compare your estimated position to the robot's true\n",
    "# position. As soon as you are within 0.01 stepsizes of the true position,\n",
    "# you will be marked correct and we will tell you how many steps it took\n",
    "# before your function successfully located the target bot.\n",
    "\n",
    "# These import steps give you access to libraries which you may (or may\n",
    "# not) want to use.\n",
    "from robot import *\n",
    "from math import *\n",
    "from matrix import *\n",
    "import random\n",
    "\n",
    "\n",
    "# This is the function you have to write. The argument 'measurement' is a \n",
    "# single (x, y) point. This function will have to be called multiple\n",
    "# times before you have enough information to accurately predict the\n",
    "# next position. The OTHER variable that your function returns will be \n",
    "# passed back to your function the next time it is called. You can use\n",
    "# this to keep track of important information over time.\n",
    "def estimate_next_pos(measurement, OTHER = None):\n",
    "    \"\"\"Estimate the next (x, y) position of the wandering Traxbot\n",
    "    based on noisy (x, y) measurements.\"\"\"\n",
    "\n",
    "    # You must return xy_estimate (x, y), and OTHER (even if it is None) \n",
    "    # in this order for grading purposes.\n",
    "    return xy_estimate, OTHER \n",
    "\n",
    "# A helper function you may find useful.\n",
    "def distance_between(point1, point2):\n",
    "    \"\"\"Computes distance between point1 and point2. Points are (x, y) pairs.\"\"\"\n",
    "    x1, y1 = point1\n",
    "    x2, y2 = point2\n",
    "    return sqrt((x2 - x1) ** 2 + (y2 - y1) ** 2)\n",
    "\n",
    "# This is here to give you a sense for how we will be running and grading\n",
    "# your code. Note that the OTHER variable allows you to store any \n",
    "# information that you want. \n",
    "def demo_grading1(estimate_next_pos_fcn, target_bot, OTHER = None):\n",
    "    localized = False\n",
    "    distance_tolerance = 0.01 * target_bot.distance\n",
    "    ctr = 0\n",
    "    # if you haven't localized the target bot, make a guess about the next\n",
    "    # position, then we move the bot and compare your guess to the true\n",
    "    # next position. When you are close enough, we stop checking.\n",
    "    #For Visualization\n",
    "    import turtle    #You need to run this locally to use the turtle module\n",
    "    window = turtle.Screen()\n",
    "    window.bgcolor('white')\n",
    "    size_multiplier= 25.0  #change Size of animation\n",
    "    broken_robot = turtle.Turtle()\n",
    "    broken_robot.shape('turtle')\n",
    "    broken_robot.color('green')\n",
    "    broken_robot.resizemode('user')\n",
    "    broken_robot.shapesize(0.1, 0.1, 0.1)\n",
    "    measured_broken_robot = turtle.Turtle()\n",
    "    measured_broken_robot.shape('circle')\n",
    "    measured_broken_robot.color('red')\n",
    "    measured_broken_robot.resizemode('user')\n",
    "    measured_broken_robot.shapesize(0.1, 0.1, 0.1)\n",
    "    prediction = turtle.Turtle()\n",
    "    prediction.shape('arrow')\n",
    "    prediction.color('blue')\n",
    "    prediction.resizemode('user')\n",
    "    prediction.shapesize(0.1, 0.1, 0.1)\n",
    "    prediction.penup()\n",
    "    broken_robot.penup()\n",
    "    measured_broken_robot.penup()\n",
    "    #End of Visualization\n",
    "    while not localized and ctr <= 10:\n",
    "        ctr += 1\n",
    "        measurement = target_bot.sense()\n",
    "        position_guess, OTHER = estimate_next_pos_fcn(measurement, OTHER)\n",
    "        target_bot.move_in_circle()\n",
    "        true_position = (target_bot.x, target_bot.y)\n",
    "        error = distance_between(position_guess, true_position)\n",
    "        if error <= distance_tolerance:\n",
    "            print(\"You got it right! It took you \", ctr, \" steps to localize.\")\n",
    "            localized = True\n",
    "        if ctr == 10:\n",
    "            print(\"Sorry, it took you too many steps to localize the target.\")\n",
    "        #More Visualization\n",
    "        measured_broken_robot.setheading(target_bot.heading*180/pi)\n",
    "        measured_broken_robot.goto(measurement[0]*size_multiplier, measurement[1]*size_multiplier-200)\n",
    "        measured_broken_robot.stamp()\n",
    "        broken_robot.setheading(target_bot.heading*180/pi)\n",
    "        broken_robot.goto(target_bot.x*size_multiplier, target_bot.y*size_multiplier-200)\n",
    "        broken_robot.stamp()\n",
    "        prediction.setheading(target_bot.heading*180/pi)\n",
    "        prediction.goto(position_guess[0]*size_multiplier, position_guess[1]*size_multiplier-200)\n",
    "        prediction.stamp()\n",
    "        turtle.exitonclick()\n",
    "        #End of Visualization\n",
    "    return localized\n",
    "def demo_grading(estimate_next_pos_fcn, target_bot, OTHER = None):\n",
    "    localized = False\n",
    "    distance_tolerance = 0.01 * target_bot.distance\n",
    "    ctr = 0\n",
    "    # if you haven't localized the target bot, make a guess about the next\n",
    "    # position, then we move the bot and compare your guess to the true\n",
    "    # next position. When you are close enough, we stop checking.\n",
    "    while not localized and ctr <= 10: \n",
    "        ctr += 1\n",
    "        measurement = target_bot.sense()\n",
    "        position_guess, OTHER = estimate_next_pos_fcn(measurement, OTHER)\n",
    "        target_bot.move_in_circle()\n",
    "        true_position = (target_bot.x, target_bot.y)\n",
    "        error = distance_between(position_guess, true_position)\n",
    "        if error <= distance_tolerance:\n",
    "            print(\"You got it right! It took you \", ctr, \" steps to localize.\")\n",
    "            localized = True\n",
    "        if ctr == 10:\n",
    "            print(\"Sorry, it took you too many steps to localize the target.\")\n",
    "    return localized\n",
    "\n",
    "# This is a demo for what a strategy could look like. This one isn't very good.\n",
    "def naive_next_pos(measurement, OTHER = None):\n",
    "    \"\"\"This strategy records the first reported position of the target and\n",
    "    assumes that eventually the target bot will eventually return to that \n",
    "    position, so it always guesses that the first position will be the next.\"\"\"\n",
    "    if not OTHER: # this is the first measurement\n",
    "        OTHER = measurement\n",
    "    xy_estimate = OTHER \n",
    "    return xy_estimate, OTHER\n",
    "\n",
    "def naive_next_pos(measurement, OTHER = None):\n",
    "    \"\"\"This strategy records the first reported position of the target and\n",
    "    assumes that eventually the target bot will eventually return to that \n",
    "    position, so it always guesses that the first position will be the next.\"\"\"\n",
    "    if not OTHER:\n",
    "        OTHER = [[],[]]\n",
    "    OTHER[0].append(measurement)\n",
    "    \n",
    "    if len(OTHER[0]) < 3: # this is the first measurement\n",
    "        xy_estimate=OTHER[0][-1]\n",
    "    else:\n",
    "        point1 = OTHER[0][-3]\n",
    "        point2 = OTHER[0][-2]\n",
    "        point3 = OTHER[0][-1]\n",
    "        old_dist, old_heading = dist_heading(point1,point2)\n",
    "        new_dist, new_heading = dist_heading(point2,point3)\n",
    "        ddist = (old_dist+new_dist)/ 2\n",
    "\n",
    "        dheading = change_heading(old_heading, new_heading)\n",
    "        xy_estimate = predict_coordinate(point3, new_heading, dheading, ddist)\n",
    "    return xy_estimate, OTHER\n",
    "\n",
    "\n",
    "# This is how we create a target bot. Check the robot.py file to understand\n",
    "# How the robot class behaves.\n",
    "test_target = robot(2.1, 4.3, 0.5, 2*pi / 34.0, 1.5)\n",
    "test_target.set_noise(0.0, 0.0, 0.0)\n",
    "\n",
    "demo_grading(naive_next_pos, test_target)"
   ]
  },
  {
   "cell_type": "code",
   "execution_count": null,
   "metadata": {
    "collapsed": true
   },
   "outputs": [],
   "source": []
  },
  {
   "cell_type": "code",
   "execution_count": null,
   "metadata": {
    "collapsed": true
   },
   "outputs": [],
   "source": []
  },
  {
   "cell_type": "code",
   "execution_count": null,
   "metadata": {
    "collapsed": true
   },
   "outputs": [],
   "source": []
  },
  {
   "cell_type": "code",
   "execution_count": 35,
   "metadata": {
    "collapsed": false
   },
   "outputs": [
    {
     "name": "stdout",
     "output_type": "stream",
     "text": [
      "2.91\n",
      "[4.051, 11.804]\n",
      "[5.055, 12.919]\n",
      "[5.805, 14.218]\n",
      "[6.269, 15.645]\n",
      "[6.426, 17.137]\n",
      "[6.269, 18.629]\n",
      "[5.805, 20.056]\n",
      "[5.055, 21.355]\n",
      "[4.051, 22.47]\n",
      "[2.837, 23.352]\n",
      "[1.467, 23.962]\n",
      "You got it right! It took you  13  steps to catch the target.\n"
     ]
    },
    {
     "data": {
      "text/plain": [
       "True"
      ]
     },
     "execution_count": 35,
     "metadata": {},
     "output_type": "execute_result"
    }
   ],
   "source": [
    "# ----------\n",
    "# Part Three\n",
    "#\n",
    "# Now you'll actually track down and recover the runaway Traxbot. \n",
    "# In this step, your speed will be about twice as fast the runaway bot,\n",
    "# which means that your bot's distance parameter will be about twice that\n",
    "# of the runaway. You can move less than this parameter if you'd \n",
    "# like to slow down your bot near the end of the chase. \n",
    "#\n",
    "# ----------\n",
    "# YOUR JOB\n",
    "#\n",
    "# Complete the next_move function. This function will give you access to \n",
    "# the position and heading of your bot (the hunter); the most recent \n",
    "# measurement received from the runaway bot (the target), the max distance\n",
    "# your bot can move in a given timestep, and another variable, called \n",
    "# OTHER, which you can use to keep track of information.\n",
    "# \n",
    "# Your function will return the amount you want your bot to turn, the \n",
    "# distance you want your bot to move, and the OTHER variable, with any\n",
    "# information you want to keep track of.\n",
    "# \n",
    "# ----------\n",
    "# GRADING\n",
    "# \n",
    "# We will make repeated calls to your next_move function. After\n",
    "# each call, we will move the hunter bot according to your instructions\n",
    "# and compare its position to the target bot's true position\n",
    "# As soon as the hunter is within 0.01 stepsizes of the target,\n",
    "# you will be marked correct and we will tell you how many steps it took\n",
    "# before your function successfully located the target bot. \n",
    "#\n",
    "# As an added challenge, try to get to the target bot as quickly as \n",
    "# possible. \n",
    "\n",
    "from robot import *\n",
    "from math import *\n",
    "from matrix import *\n",
    "import random\n",
    "\n",
    "def make_plan(hunter_position, target_measurement, target_heading, distance, d_heading, max_distance):\n",
    "    solved = False\n",
    "    i = 1\n",
    "    print(max_distance)\n",
    "    while not solved:\n",
    "        next_target_position, next_target_heading = calc_next_position(\n",
    "            target_measurement, target_heading, distance, d_heading)\n",
    "        print(next_target_position)\n",
    "        distance_to_position = distance_between(hunter_position, next_target_position)\n",
    "        if distance_to_position / (max_distance*i) <= 1:\n",
    "            solved = True\n",
    "        else:\n",
    "            i+=1\n",
    "            target_measurement = next_target_position\n",
    "            target_heading = next_target_heading\n",
    "    return next_target_position\n",
    "    \n",
    "def calc_next_position(target_measurement, target_heading, distance, d_heading):\n",
    "    x,y = target_measurement[0], target_measurement[1] \n",
    "    new_heading = target_heading + d_heading\n",
    "    dy = distance * sin(new_heading)\n",
    "    dx = distance * cos(new_heading)\n",
    "    predicted_xy = [round(x + dx, 3), round(y + dy, 3)]\n",
    "    return predicted_xy, new_heading\n",
    "    \n",
    "def next_move(hunter_position, hunter_heading, target_measurement, max_distance, OTHER = None):\n",
    "    # This function will be called after each time the target moves. \n",
    "\n",
    "    # The OTHER variable is a place for you to store any historical information about\n",
    "    # the progress of the hunt (or maybe some localization information). Your return format\n",
    "    # must be as follows in order to be graded properly.\n",
    "\n",
    "    if not OTHER: # first time calling this function, set up my OTHER variables.\n",
    "        measurements = [target_measurement]\n",
    "        hunter_positions = [hunter_position]\n",
    "        hunter_headings = [hunter_heading]\n",
    "        plan = []\n",
    "        hunter_params = []\n",
    "        OTHER = [measurements, hunter_positions, hunter_headings, plan, hunter_params] # now I can keep track of history\n",
    "    else: # not the first time, update my history\n",
    "        OTHER[0].append(target_measurement)\n",
    "        OTHER[1].append(hunter_position)\n",
    "        OTHER[2].append(hunter_heading)\n",
    "        measurements, hunter_positions, hunter_headings, plan, hunter_params = OTHER # now I can always refer to these variables\n",
    "    \n",
    "    # now we start taking steps\n",
    "    #step one: we just go as close as we can to the starting position of the hunted\n",
    "    if len(measurements)==1:\n",
    "        heading_to_target = get_heading(hunter_position, target_measurement)\n",
    "        heading_difference = heading_to_target - hunter_heading\n",
    "        turning =  heading_difference # turn towards the target\n",
    "        distance = min(distance_between(hunter_position,target_measurement), max_distance)\n",
    "\n",
    "    #Step two: Now we know the distance it travels but not the heading, so extrapolate and try to go\n",
    "    # as close to the targets next point if it didnt turn\n",
    "    elif len(measurements)==2:\n",
    "        #find the distance it will travel\n",
    "        dist = distance_between(measurements[-2], measurements[-1])\n",
    "        #find the heading the target is going\n",
    "        target_heading = get_heading(measurements[-2], measurements[-1])\n",
    "        # now we need to find the x,y of the prediction given the dist\n",
    "        dx = dist*cos(target_heading)\n",
    "        dy = dist*sin(target_heading)\n",
    "        pred_target = (measurements[-1][0] + dx, measurements[-1][1] + dy)\n",
    "        \n",
    "        # finally we get our position relative to the pred and move to that spot\n",
    "        heading_to_target = get_heading(hunter_position, pred_target)\n",
    "        heading_difference = heading_to_target - hunter_heading\n",
    "        turning =  heading_difference # turn towards the target\n",
    "        distance = min(distance_between(hunter_position, pred_target), max_distance)\n",
    "        \n",
    "        # we add the hunter params for later use\n",
    "        hunter_params = [dist, target_heading]\n",
    "        OTHER[4] = hunter_params\n",
    "    #Step three: we will finally know the system determinalistically so we can find the optimal path\n",
    "    # we will find the turning angle, create a plan, then execute the plan.\n",
    "    elif len(measurements)==3:\n",
    "        # get the direction the target just moved and calculate how much its steering angle is\n",
    "        target_heading = get_heading(measurements[-2], measurements[-1])\n",
    "        d_heading = target_heading - hunter_params[1]\n",
    "        distance = hunter_params[0]\n",
    "        OTHER[4][1] = d_heading #store this new parameter\n",
    "        # make a plan\n",
    "        plan = make_plan(hunter_position, target_measurement, target_heading, distance, d_heading, max_distance)\n",
    "        #store the plan (it is just the destination we will hit the target)\n",
    "        OTHER[3] = plan\n",
    "        heading_to_target = get_heading(hunter_position, plan)\n",
    "        heading_difference = heading_to_target - hunter_heading\n",
    "        turning =  heading_difference # turn towards the target\n",
    "        distance = min(distance_between(hunter_position, plan), max_distance)\n",
    "    elif len(measurements) >3:\n",
    "        heading_to_target = get_heading(hunter_position, plan)\n",
    "        heading_difference = heading_to_target - hunter_heading\n",
    "        turning =  heading_difference # turn towards the target\n",
    "        distance = min(distance_between(hunter_position, plan), max_distance)\n",
    "    else:\n",
    "        print('ERROR')\n",
    "        \n",
    "    return turning, distance, OTHER\n",
    "\n",
    "def distance_between(point1, point2):\n",
    "    \"\"\"Computes distance between point1 and point2. Points are (x, y) pairs.\"\"\"\n",
    "    x1, y1 = point1\n",
    "    x2, y2 = point2\n",
    "    return sqrt((x2 - x1) ** 2 + (y2 - y1) ** 2)\n",
    "\n",
    "def demo_grading(hunter_bot, target_bot, next_move_fcn, OTHER = None):\n",
    "    \"\"\"Returns True if your next_move_fcn successfully guides the hunter_bot\n",
    "    to the target_bot. This function is here to help you understand how we \n",
    "    will grade your submission.\"\"\"\n",
    "    max_distance = 1.94 * target_bot.distance # 1.94 is an example. It will change.\n",
    "    separation_tolerance = 0.02 * target_bot.distance # hunter must be within 0.02 step size to catch target\n",
    "    caught = False\n",
    "    ctr = 0\n",
    "\n",
    "    # We will use your next_move_fcn until we catch the target or time expires.\n",
    "    while not caught and ctr < 1000:\n",
    "\n",
    "        # Check to see if the hunter has caught the target.\n",
    "        hunter_position = (hunter_bot.x, hunter_bot.y)\n",
    "        target_position = (target_bot.x, target_bot.y)\n",
    "        separation = distance_between(hunter_position, target_position)\n",
    "        if separation < separation_tolerance:\n",
    "            print(\"You got it right! It took you \", ctr, \" steps to catch the target.\")\n",
    "            caught = True\n",
    "\n",
    "        # The target broadcasts its noisy measurement\n",
    "        target_measurement = target_bot.sense()\n",
    "\n",
    "        # This is where YOUR function will be called.\n",
    "        turning, distance, OTHER = next_move_fcn(hunter_position, hunter_bot.heading, target_measurement, max_distance, OTHER)\n",
    "        \n",
    "        # Don't try to move faster than allowed!\n",
    "        if distance > max_distance:\n",
    "            distance = max_distance\n",
    "\n",
    "        # We move the hunter according to your instructions\n",
    "        hunter_bot.move(turning, distance)\n",
    "\n",
    "        # The target continues its (nearly) circular motion.\n",
    "        target_bot.move_in_circle()\n",
    "\n",
    "        ctr += 1            \n",
    "        if ctr >= 1000:\n",
    "            print(\"It took too many steps to catch the target.\")\n",
    "    return caught\n",
    "\n",
    "def angle_trunc(a):\n",
    "    \"\"\"This maps all angles to a domain of [-pi, pi]\"\"\"\n",
    "    while a < 0.0:\n",
    "        a += pi * 2\n",
    "    return ((a + pi) % (pi * 2)) - pi\n",
    "\n",
    "def get_heading(hunter_position, target_position):\n",
    "    \"\"\"Returns the angle, in radians, between the target and hunter positions\"\"\"\n",
    "    hunter_x, hunter_y = hunter_position\n",
    "    target_x, target_y = target_position\n",
    "    heading = atan2(target_y - hunter_y, target_x - hunter_x)\n",
    "    heading = angle_trunc(heading)\n",
    "    return heading\n",
    "\n",
    "def naive_next_move(hunter_position, hunter_heading, target_measurement, max_distance, OTHER):\n",
    "    \"\"\"This strategy always tries to steer the hunter directly towards where the target last\n",
    "    said it was and then moves forwards at full speed. This strategy also keeps track of all \n",
    "    the target measurements, hunter positions, and hunter headings over time, but it doesn't \n",
    "    do anything with that information.\"\"\"\n",
    "    if not OTHER: # first time calling this function, set up my OTHER variables.\n",
    "        measurements = [target_measurement]\n",
    "        hunter_positions = [hunter_position]\n",
    "        hunter_headings = [hunter_heading]\n",
    "        OTHER = (measurements, hunter_positions, hunter_headings) # now I can keep track of history\n",
    "    else: # not the first time, update my history\n",
    "        OTHER[0].append(target_measurement)\n",
    "        OTHER[1].append(hunter_position)\n",
    "        OTHER[2].append(hunter_heading)\n",
    "        measurements, hunter_positions, hunter_headings = OTHER # now I can always refer to these variables\n",
    "    \n",
    "    heading_to_target = get_heading(hunter_position, target_measurement)\n",
    "    heading_difference = heading_to_target - hunter_heading\n",
    "    turning =  heading_difference # turn towards the target\n",
    "    distance = max_distance # full speed ahead!\n",
    "    return turning, distance, OTHER\n",
    "\n",
    "target = robot(0.0, 10.0, 0.0, 2*pi / 30, 1.5)\n",
    "# measurement_noise = .05*target.distance\n",
    "# target.set_noise(0.0, 0.0, measurement_noise)\n",
    "\n",
    "hunter = robot(-10.0, -10.0, 0.0)\n",
    "\n",
    "demo_grading(hunter, target, next_move)\n",
    "\n",
    "\n",
    "\n",
    "\n",
    "\n"
   ]
  },
  {
   "cell_type": "code",
   "execution_count": 38,
   "metadata": {
    "collapsed": false
   },
   "outputs": [
    {
     "data": {
      "text/plain": [
       "2.5"
      ]
     },
     "execution_count": 38,
     "metadata": {},
     "output_type": "execute_result"
    }
   ],
   "source": [
    "import numpy as np\n",
    "np.mean([1,2,3,4])"
   ]
  },
  {
   "cell_type": "code",
   "execution_count": 40,
   "metadata": {
    "collapsed": false
   },
   "outputs": [
    {
     "data": {
      "text/plain": [
       "1.0"
      ]
     },
     "execution_count": 40,
     "metadata": {},
     "output_type": "execute_result"
    }
   ],
   "source": [
    "np.mean(np.diff([1,2,3,4]))"
   ]
  },
  {
   "cell_type": "code",
   "execution_count": null,
   "metadata": {
    "collapsed": true
   },
   "outputs": [],
   "source": [
    "def dist_head_estimates(measurements, sigma_dist_measurement=1, sigma_d_heading_measurement=5):\n",
    "    for k in range(len(measurements)-1):\n",
    "        if k == 0:\n",
    "            mu_dist = distance_between(measurements[k], measurements[k+1])\n",
    "            heading1 = get_heading(measurements[k], measurements[k+1])\n",
    "        if k ==1:\n",
    "            new_dist = distance_between(measurements[k], measurements[k+1])\n",
    "            new_heading = get_heading(measurements[k], measurements[k+1])\n",
    "            mu_d_heading = new_heading - heading1\n",
    "            ## update the expectation of mu_dist\n",
    "            mu_dist, sigma_dist= update_guassian(\n",
    "                mu_dist, sigma_dist_measurement, new_dist, sigma_dist_measurement)\n",
    "            old_heading = heading2\n",
    "        if k ==2:\n",
    "            new_dist = distance_between(measurements[k], measurements[k+1])\n",
    "            new_heading = get_heading(measurements[k], measurements[k+1])\n",
    "            new_d_heading = new_heading - old_heading\n",
    "            old_heading = new_heading\n",
    "            ## update the expectation of mu but this time use our new sigma\n",
    "            mu_dist, sigma_dist= update_guassian(\n",
    "                mu_dist, sigma_dist, new_dist, sigma_dist_measurement)\n",
    "            ## update the expectation of mu_d_heading\n",
    "            mu_d_heading, sigma_d_heading = update_guassian(\n",
    "                mu_d_heading, sigma_d_heading_measurement, new_d_heading, sigma_d_heading_measurement)\n",
    "        if k >= 3:\n",
    "            new_dist = distance_between(measurements[k], measurements[k+1])\n",
    "            new_heading = get_heading(measurements[k], measurements[k+1])\n",
    "            new_d_heading = new_heading - old_heading\n",
    "            old_heading = new_heading\n",
    "            \n",
    "            mu_dist, sigma_dist= update_guassian(\n",
    "                mu_dist, sigma_dist, new_dist, sigma_dist_measurement)\n",
    "            \n",
    "            ## update the expectation of mu_d_heading but this time use our new sigma\n",
    "            mu_d_heading, sigma_d_heading = update_guassian(\n",
    "                mu_d_heading, sigma_d_heading, new_d_heading, sigma_d_heading_measurement)\n",
    "            "
   ]
  }
 ],
 "metadata": {
  "kernelspec": {
   "display_name": "Python 3",
   "language": "python",
   "name": "python3"
  },
  "language_info": {
   "codemirror_mode": {
    "name": "ipython",
    "version": 3
   },
   "file_extension": ".py",
   "mimetype": "text/x-python",
   "name": "python",
   "nbconvert_exporter": "python",
   "pygments_lexer": "ipython3",
   "version": "3.5.3"
  }
 },
 "nbformat": 4,
 "nbformat_minor": 2
}
