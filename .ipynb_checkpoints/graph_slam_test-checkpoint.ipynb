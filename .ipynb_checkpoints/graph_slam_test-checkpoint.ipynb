{
 "cells": [
  {
   "cell_type": "code",
   "execution_count": 6,
   "metadata": {
    "collapsed": false,
    "deletable": true,
    "editable": true
   },
   "outputs": [
    {
     "data": {
      "text/plain": [
       "0.7258186340332031"
      ]
     },
     "execution_count": 6,
     "metadata": {},
     "output_type": "execute_result"
    }
   ],
   "source": [
    "p=0.625\n",
    "q=1-p\n",
    "1-(6*(p**5)*q+(p**6))"
   ]
  },
  {
   "cell_type": "code",
   "execution_count": 3,
   "metadata": {
    "collapsed": false,
    "deletable": true,
    "editable": true
   },
   "outputs": [
    {
     "data": {
      "text/plain": [
       "0.095367431640625"
      ]
     },
     "execution_count": 3,
     "metadata": {},
     "output_type": "execute_result"
    }
   ],
   "source": [
    "p**5"
   ]
  },
  {
   "cell_type": "code",
   "execution_count": 7,
   "metadata": {
    "collapsed": false,
    "deletable": true,
    "editable": true
   },
   "outputs": [
    {
     "data": {
      "text/plain": [
       "0.059604644775390625"
      ]
     },
     "execution_count": 7,
     "metadata": {},
     "output_type": "execute_result"
    }
   ],
   "source": [
    "(p**6)"
   ]
  },
  {
   "cell_type": "code",
   "execution_count": 8,
   "metadata": {
    "collapsed": false,
    "deletable": true,
    "editable": true
   },
   "outputs": [
    {
     "data": {
      "text/plain": [
       "0.07775999999999998"
      ]
     },
     "execution_count": 8,
     "metadata": {},
     "output_type": "execute_result"
    }
   ],
   "source": [
    ".6**5"
   ]
  },
  {
   "cell_type": "code",
   "execution_count": 52,
   "metadata": {
    "collapsed": false,
    "deletable": true,
    "editable": true
   },
   "outputs": [
    {
     "data": {
      "text/plain": [
       "1010"
      ]
     },
     "execution_count": 52,
     "metadata": {},
     "output_type": "execute_result"
    }
   ],
   "source": [
    "l = [1,2,3,4,1000]\n",
    "sum(l)"
   ]
  },
  {
   "cell_type": "code",
   "execution_count": 53,
   "metadata": {
    "collapsed": false,
    "deletable": true,
    "editable": true
   },
   "outputs": [
    {
     "data": {
      "text/plain": [
       "[1, 3, 7, 15, 1026]"
      ]
     },
     "execution_count": 53,
     "metadata": {},
     "output_type": "execute_result"
    }
   ],
   "source": [
    "cum_sum=[]\n",
    "run_sum=0\n",
    "for i in range(len(l)):\n",
    "    cum_sum.append(run_sum+l[i])\n",
    "    run_sum+=cum_sum[i]\n",
    "N=5\n",
    "nums=[]\n",
    "for i in range(N):\n",
    "    nums.append([cum_sum.index(i) for i in cum_sum if i >= random.random()*cum_sum[-1]][0])\n",
    "nums\n",
    "cum_sum"
   ]
  },
  {
   "cell_type": "code",
   "execution_count": 78,
   "metadata": {
    "collapsed": false,
    "deletable": true,
    "editable": true
   },
   "outputs": [
    {
     "data": {
      "text/plain": [
       "-2.356194490192345"
      ]
     },
     "execution_count": 78,
     "metadata": {},
     "output_type": "execute_result"
    }
   ],
   "source": [
    "from math import *\n",
    "atan2(-1,-1)"
   ]
  },
  {
   "cell_type": "code",
   "execution_count": 69,
   "metadata": {
    "collapsed": false,
    "deletable": true,
    "editable": true
   },
   "outputs": [
    {
     "data": {
      "text/plain": [
       "[4, 4, 4, 4, 4]"
      ]
     },
     "execution_count": 69,
     "metadata": {},
     "output_type": "execute_result"
    }
   ],
   "source": [
    "N=5\n",
    "nums=[]\n",
    "for i in range(N):\n",
    "    nums.append([cum_sum.index(i) for i in cum_sum if i >= random.random()*cum_sum[-1]][0])\n",
    "nums"
   ]
  },
  {
   "cell_type": "code",
   "execution_count": 8,
   "metadata": {
    "collapsed": true,
    "deletable": true,
    "editable": true
   },
   "outputs": [],
   "source": [
    "delta_name.insert(0,0)"
   ]
  },
  {
   "cell_type": "code",
   "execution_count": 11,
   "metadata": {
    "collapsed": false,
    "deletable": true,
    "editable": true
   },
   "outputs": [
    {
     "data": {
      "text/plain": [
       "[0, '^', '<', 'v', '>', 1, 3, 4]"
      ]
     },
     "execution_count": 11,
     "metadata": {},
     "output_type": "execute_result"
    }
   ],
   "source": [
    "delta_name.extend([])\n",
    "delta_name"
   ]
  },
  {
   "cell_type": "code",
   "execution_count": 25,
   "metadata": {
    "collapsed": false,
    "deletable": true,
    "editable": true
   },
   "outputs": [
    {
     "name": "stdout",
     "output_type": "stream",
     "text": [
      "[0, 0]\n",
      "[0, 0, 0]\n"
     ]
    }
   ],
   "source": [
    "init = [0, 0]\n",
    "print(init)\n",
    "init.insert(0,0)\n",
    "print(init)"
   ]
  },
  {
   "cell_type": "code",
   "execution_count": 34,
   "metadata": {
    "collapsed": false,
    "deletable": true,
    "editable": true
   },
   "outputs": [
    {
     "name": "stdout",
     "output_type": "stream",
     "text": [
      "[0, 0, 0]\n"
     ]
    },
    {
     "data": {
      "text/plain": [
       "[11, 4, 5]"
      ]
     },
     "execution_count": 34,
     "metadata": {},
     "output_type": "execute_result"
    }
   ],
   "source": [
    "grid = [[0, 0, 1, 0, 0, 0],\n",
    "        [0, 0, 1, 0, 0, 0],\n",
    "        [0, 0, 0, 0, 1, 0],\n",
    "        [0, 0, 1, 1, 1, 0],\n",
    "        [0, 0, 0, 0, 1, 0]]\n",
    "init = [0, 0]\n",
    "goal = [len(grid)-1, len(grid[0])-1]\n",
    "cost = 1\n",
    "\n",
    "delta = [[-1, 0], # go up\n",
    "         [ 0,-1], # go left\n",
    "         [ 1, 0], # go down\n",
    "         [ 0, 1]] # go right\n",
    "\n",
    "delta_name = ['^', '<', 'v', '>']\n",
    "\n",
    "def get_neighbors(graph, start, delta, cost):\n",
    "    neighbors = []\n",
    "    n_rows = len(graph)\n",
    "    n_cols = len(graph[0])\n",
    "    for dt in delta:\n",
    "        i = dt[0] + start[1]\n",
    "        j = dt[1] + start[2]\n",
    "        if (i>=n_rows) or (j>=n_cols) or (i<0) or (j<0):\n",
    "            pass\n",
    "        else:\n",
    "            if graph[i][j]==0:\n",
    "                neighbors.append([start[0]+cost,i,j])\n",
    "    return neighbors\n",
    "def search(grid,init,goal,cost):\n",
    "    # initialize our queue and add cost as a first term\n",
    "    init.insert(0,0)\n",
    "    queue =[init]\n",
    "    # while queue is not empty\n",
    "    while queue:\n",
    "        #grab first element in the queue\n",
    "        vertex = queue.pop(0)\n",
    "        # if we havent seen this element before\n",
    "        if grid[vertex[1]][vertex[2]] == 0:\n",
    "            #set the grid to seen\n",
    "            grid[vertex[1]][vertex[2]] = 1\n",
    "            # check if we are at our destination if so return it\n",
    "            if (vertex[1],vertex[2]) == (goal[0],goal[1]):\n",
    "                return vertex\n",
    "            neighbors = get_neighbors(grid,vertex,delta,cost)\n",
    "            queue.extend(neighbors)\n",
    "            \n",
    "    return 'fail'\n",
    "search(grid,init,goal,cost)"
   ]
  },
  {
   "cell_type": "code",
   "execution_count": 19,
   "metadata": {
    "collapsed": false,
    "deletable": true,
    "editable": true
   },
   "outputs": [
    {
     "data": {
      "text/plain": [
       "[[1, 1, 0], [1, 0, 1]]"
      ]
     },
     "execution_count": 19,
     "metadata": {},
     "output_type": "execute_result"
    }
   ],
   "source": [
    "def get_neighbors(graph, start, delta, cost):\n",
    "    neighbors = []\n",
    "    n_rows = len(graph)\n",
    "    n_cols = len(graph[0])\n",
    "    for dt in delta:\n",
    "        i = dt[0] + start[1]\n",
    "        j = dt[1] + start[2]\n",
    "        if (i>=n_rows) or (j>=n_cols) or (i<0) or (j<0):\n",
    "            pass\n",
    "        else:\n",
    "            if graph[i][j]==0:\n",
    "                neighbors.append([start[0]+cost,i,j])\n",
    "    return neighbors\n",
    "get_neighbors(grid,init,delta,1)"
   ]
  },
  {
   "cell_type": "code",
   "execution_count": 28,
   "metadata": {
    "collapsed": true,
    "deletable": true,
    "editable": true
   },
   "outputs": [],
   "source": [
    "?init.insert"
   ]
  },
  {
   "cell_type": "code",
   "execution_count": 32,
   "metadata": {
    "collapsed": false,
    "deletable": true,
    "editable": true
   },
   "outputs": [],
   "source": [
    "init = [0, 0]\n",
    "init.insert(0,0)"
   ]
  },
  {
   "cell_type": "code",
   "execution_count": 33,
   "metadata": {
    "collapsed": false,
    "deletable": true,
    "editable": true
   },
   "outputs": [
    {
     "data": {
      "text/plain": [
       "[0, 0, 0]"
      ]
     },
     "execution_count": 33,
     "metadata": {},
     "output_type": "execute_result"
    }
   ],
   "source": [
    "init"
   ]
  },
  {
   "cell_type": "code",
   "execution_count": 1,
   "metadata": {
    "collapsed": true,
    "deletable": true,
    "editable": true
   },
   "outputs": [],
   "source": [
    "test_data1 = [[[[1, 19.457599255548065, 23.8387362100849], [2, -13.195807561967236, 11.708840328458608],\n",
    "                [3, -30.0954905279171, 15.387879242505843]], [-12.2607279422326, -15.801093326936487]],\n",
    "              [[[2, -0.4659930049620491, 28.088559771215664], [4, -17.866382374890936, -16.384904503932]],\n",
    "               [-12.2607279422326, -15.801093326936487]],\n",
    "              [[[4, -6.202512900833806, -1.823403210274639]], [-12.2607279422326, -15.801093326936487]],\n",
    "              [[[4, 7.412136480918645, 15.388585962142429]], [14.008259661173426, 14.274756084260822]],\n",
    "              [[[4, -7.526138813444998, -0.4563942429717849]], [14.008259661173426, 14.274756084260822]],\n",
    "              [[[2, -6.299793150150058, 29.047830407717623], [4, -21.93551130411791, -13.21956810989039]],\n",
    "               [14.008259661173426, 14.274756084260822]],\n",
    "              [[[1, 15.796300959032276, 30.65769689694247], [2, -18.64370821983482, 17.380022987031367]],\n",
    "               [14.008259661173426, 14.274756084260822]],\n",
    "              [[[1, 0.40311325410337906, 14.169429532679855], [2, -35.069349468466235, 2.4945558982439957]],\n",
    "               [14.008259661173426, 14.274756084260822]],\n",
    "              [[[1, -16.71340983241936, -2.777000269543834]], [-11.006096015782283, 16.699276945166858]],\n",
    "              [[[1, -3.611096830835776, -17.954019226763958]], [-19.693482634035977, 3.488085684573048]],\n",
    "              [[[1, 18.398273354362416, -22.705102332550947]], [-19.693482634035977, 3.488085684573048]],\n",
    "              [[[2, 2.789312482883833, -39.73720193121324]], [12.849049222879723, -15.326510824972983]], [\n",
    "                  [[1, 21.26897046581808, -10.121029799040915], [2, -11.917698965880655, -23.17711662602097],\n",
    "                   [3, -31.81167947898398, -16.7985673023331]], [12.849049222879723, -15.326510824972983]], [\n",
    "                  [[1, 10.48157743234859, 5.692957082575485], [2, -22.31488473554935, -5.389184118551409],\n",
    "                   [3, -40.81803984305378, -2.4703329790238118]], [12.849049222879723, -15.326510824972983]], [\n",
    "                  [[0, 10.591050242096598, -39.2051798967113], [1, -3.5675572049297553, 22.849456408289125],\n",
    "                   [2, -38.39251065320351, 7.288990306029511]], [12.849049222879723, -15.326510824972983]],\n",
    "              [[[0, -3.6225556479370766, -25.58006865235512]], [-7.8874682868419965, -18.379005523261092]],\n",
    "              [[[0, 1.9784503557879374, -6.5025974151499]], [-7.8874682868419965, -18.379005523261092]],\n",
    "              [[[0, 10.050665232782423, 11.026385307998742]], [-17.82919359778298, 9.062000642947142]],\n",
    "              [[[0, 26.526838150174818, -0.22563393232425621], [4, -33.70303936886652, 2.880339841013677]],\n",
    "               [-17.82919359778298, 9.062000642947142]]]"
   ]
  },
  {
   "cell_type": "code",
   "execution_count": null,
   "metadata": {
    "collapsed": true,
    "deletable": true,
    "editable": true
   },
   "outputs": [],
   "source": []
  },
  {
   "cell_type": "code",
   "execution_count": null,
   "metadata": {
    "collapsed": true,
    "deletable": true,
    "editable": true
   },
   "outputs": [],
   "source": []
  }
 ],
 "metadata": {
  "kernelspec": {
   "display_name": "Python 3",
   "language": "python",
   "name": "python3"
  },
  "language_info": {
   "codemirror_mode": {
    "name": "ipython",
    "version": 3
   },
   "file_extension": ".py",
   "mimetype": "text/x-python",
   "name": "python",
   "nbconvert_exporter": "python",
   "pygments_lexer": "ipython3",
   "version": "3.5.3"
  }
 },
 "nbformat": 4,
 "nbformat_minor": 2
}
