{
 "cells": [
  {
   "cell_type": "code",
   "execution_count": 1,
   "metadata": {
    "collapsed": true
   },
   "outputs": [],
   "source": [
    "d = {320:1, 321:0, 322:3}"
   ]
  },
  {
   "cell_type": "code",
   "execution_count": 17,
   "metadata": {
    "collapsed": false
   },
   "outputs": [
    {
     "data": {
      "text/plain": [
       "321"
      ]
     },
     "execution_count": 17,
     "metadata": {},
     "output_type": "execute_result"
    }
   ],
   "source": [
    "min(d,key=d.get)"
   ]
  },
  {
   "cell_type": "code",
   "execution_count": 9,
   "metadata": {
    "collapsed": false
   },
   "outputs": [],
   "source": [
    "key = d.get"
   ]
  },
  {
   "cell_type": "code",
   "execution_count": 10,
   "metadata": {
    "collapsed": false
   },
   "outputs": [
    {
     "data": {
      "text/plain": [
       "<function dict.get>"
      ]
     },
     "execution_count": 10,
     "metadata": {},
     "output_type": "execute_result"
    }
   ],
   "source": [
    "key"
   ]
  },
  {
   "cell_type": "code",
   "execution_count": 11,
   "metadata": {
    "collapsed": true
   },
   "outputs": [],
   "source": [
    "?d.get"
   ]
  },
  {
   "cell_type": "code",
   "execution_count": 12,
   "metadata": {
    "collapsed": false
   },
   "outputs": [
    {
     "ename": "SyntaxError",
     "evalue": "invalid syntax (<ipython-input-12-19485d2f8d81>, line 1)",
     "output_type": "error",
     "traceback": [
      "\u001b[0;36m  File \u001b[0;32m\"<ipython-input-12-19485d2f8d81>\"\u001b[0;36m, line \u001b[0;32m1\u001b[0m\n\u001b[0;31m    (d,key=d.get)\u001b[0m\n\u001b[0m          ^\u001b[0m\n\u001b[0;31mSyntaxError\u001b[0m\u001b[0;31m:\u001b[0m invalid syntax\n"
     ]
    }
   ],
   "source": [
    "(d,key=d.get)"
   ]
  },
  {
   "cell_type": "code",
   "execution_count": 15,
   "metadata": {
    "collapsed": false
   },
   "outputs": [
    {
     "ename": "TypeError",
     "evalue": "unorderable types: builtin_function_or_method() < list()",
     "output_type": "error",
     "traceback": [
      "\u001b[0;31m---------------------------------------------------------------------------\u001b[0m",
      "\u001b[0;31mTypeError\u001b[0m                                 Traceback (most recent call last)",
      "\u001b[0;32m<ipython-input-15-409cb730a274>\u001b[0m in \u001b[0;36m<module>\u001b[0;34m()\u001b[0m\n\u001b[1;32m      1\u001b[0m \u001b[0ml\u001b[0m \u001b[0;34m=\u001b[0m \u001b[0;34m[\u001b[0m\u001b[0;36m1\u001b[0m\u001b[0;34m,\u001b[0m\u001b[0;36m2\u001b[0m\u001b[0;34m,\u001b[0m\u001b[0;36m3\u001b[0m\u001b[0;34m,\u001b[0m\u001b[0;36m4\u001b[0m\u001b[0;34m,\u001b[0m\u001b[0;36m5\u001b[0m\u001b[0;34m]\u001b[0m\u001b[0;34m\u001b[0m\u001b[0m\n\u001b[0;32m----> 2\u001b[0;31m \u001b[0mmin\u001b[0m\u001b[0;34m(\u001b[0m\u001b[0ml\u001b[0m\u001b[0;34m,\u001b[0m\u001b[0mmax\u001b[0m\u001b[0;34m)\u001b[0m\u001b[0;34m\u001b[0m\u001b[0m\n\u001b[0m",
      "\u001b[0;31mTypeError\u001b[0m: unorderable types: builtin_function_or_method() < list()"
     ]
    }
   ],
   "source": [
    "l = [1,2,3,4,5]\n",
    "min(l,max)"
   ]
  },
  {
   "cell_type": "code",
   "execution_count": 55,
   "metadata": {
    "collapsed": true
   },
   "outputs": [],
   "source": []
  },
  {
   "cell_type": "code",
   "execution_count": 19,
   "metadata": {
    "collapsed": false
   },
   "outputs": [
    {
     "data": {
      "text/plain": [
       "1"
      ]
     },
     "execution_count": 19,
     "metadata": {},
     "output_type": "execute_result"
    }
   ],
   "source": [
    "q= {'a':1,'b':2}\n",
    "q.pop('a')"
   ]
  },
  {
   "cell_type": "code",
   "execution_count": 20,
   "metadata": {
    "collapsed": false
   },
   "outputs": [
    {
     "data": {
      "text/plain": [
       "{'b': 2}"
      ]
     },
     "execution_count": 20,
     "metadata": {},
     "output_type": "execute_result"
    }
   ],
   "source": [
    "q"
   ]
  },
  {
   "cell_type": "code",
   "execution_count": null,
   "metadata": {
    "collapsed": true
   },
   "outputs": [],
   "source": [
    "delta = [[-1, 0],  # go up\n",
    "         [-1,-1], # go up-left\n",
    "         [0, -1],  # go left\n",
    "         [1, -1], # go down left\n",
    "         [1, 0],  # go down\n",
    "         [1, 1], # go down right\n",
    "         [0, 1],  # go right\n",
    "         [-1, 1]] # go right up\n",
    "\n",
    "cost = [1.0,  # go up\n",
    "         1.5, # go up-left\n",
    "         1.0,  # go left\n",
    "         1.5, # go down left\n",
    "         1.0,  # go down\n",
    "         1.5, # go down right\n",
    "         1.0,  # go right\n",
    "         1.5] # go right up\n"
   ]
  },
  {
   "cell_type": "code",
   "execution_count": 134,
   "metadata": {
    "collapsed": false
   },
   "outputs": [
    {
     "data": {
      "text/plain": [
       "(array([0]), array([6]))"
      ]
     },
     "execution_count": 134,
     "metadata": {},
     "output_type": "execute_result"
    }
   ],
   "source": [
    "np.where(np.array(warehouse4)==todo4[0])"
   ]
  },
  {
   "cell_type": "code",
   "execution_count": 163,
   "metadata": {
    "collapsed": false
   },
   "outputs": [
    {
     "name": "stdout",
     "output_type": "stream",
     "text": [
      "[8.0, 7.0, 6.0, 5.5, 5.0, 4.5, 4.0]\n",
      "[7.5, 6.5, 5.5, 4.5, 4.0, 3.5, 3.0]\n",
      "[7.0, 6.0, 5.0, 4.0, 3.0, 2.5, 2.0]\n",
      "[6.5, 5.5, 4.5, 3.5, 2.5, 1.5, 1.0]\n",
      "[6.0, 5.0, 4.0, 3.0, 2.0, 1.0, 0]\n"
     ]
    }
   ],
   "source": [
    "deltas = [[-1, 0],  # go up\n",
    "     [-1,-1], # go up-left\n",
    "     [0, -1],  # go left\n",
    "     [1, -1], # go down left\n",
    "     [1, 0],  # go down\n",
    "     [1, 1], # go down right\n",
    "     [0, 1],  # go right\n",
    "     [-1, 1]] # go right up\n",
    "\n",
    "costs = [1.0,  # go up\n",
    "         1.5, # go up-left\n",
    "         1.0,  # go left\n",
    "         1.5, # go down left\n",
    "         1.0,  # go down\n",
    "         1.5, # go down right\n",
    "         1.0,  # go right\n",
    "         1.5] # go right up\n",
    "def get_todo_index(warehouse,todo):\n",
    "    for i in range(len(warehouse)):\n",
    "        for j in range(len(warehouse[0])):\n",
    "            if warehouse[i][j] == todo:\n",
    "                return (i,j)\n",
    "    return (-1,-1)\n",
    "\n",
    "def create_heuristic(warehouse, start, deltas, costs):\n",
    "    # THIS IS JUST DIJIKSTRAS ALGORITHM\n",
    "    # initilize the hash tables to use\n",
    "    Q={}\n",
    "    prev={}\n",
    "    dist={}\n",
    "    #format source\n",
    "    source = (start[0], start[1])\n",
    "\n",
    "    # this initializes distance from source\n",
    "    # and previous node\n",
    "    for i in range(len(warehouse)):\n",
    "        for j in range(len(warehouse[0])):\n",
    "            dist[(i,j)] = float('inf')\n",
    "            prev[(i,j)] = None\n",
    "            Q[(i,j)] = (i,j)\n",
    "    \n",
    "    dist[source] = 0\n",
    "    j=0\n",
    "    #while Q is not empty we get the vertex in Q with a minimum distance\n",
    "    while Q:\n",
    "        u = min(Q,key=dist.get)\n",
    "\n",
    "        #delete u from Q\n",
    "        Q.pop(u)\n",
    "        # each neighbor that is still in Q\n",
    "        for i, delta in enumerate(deltas):\n",
    "            neighbor = (u[0]+delta[0],u[1]+delta[1])\n",
    "            if neighbor in Q:\n",
    "                alt = dist[u] + costs[i]\n",
    "                if alt < dist[neighbor]:\n",
    "                    dist[neighbor] = alt\n",
    "                    prev[neighbor] = u\n",
    "\n",
    "    return dist, prev\n",
    "\n",
    "dist, prev = create_heuristic(warehouse4, dropzone4, deltas, costs )\n",
    "dist_list=[]\n",
    "for i in range(len(warehouse4)):\n",
    "    tmp=[]\n",
    "    for j in range(len(warehouse4[0])):\n",
    "        tmp.append(dist[(i,j)])\n",
    "    dist_list.append(tmp)\n",
    "\n",
    "for i in dist_list:\n",
    "    print(i)\n",
    "   "
   ]
  },
  {
   "cell_type": "code",
   "execution_count": 164,
   "metadata": {
    "collapsed": true
   },
   "outputs": [],
   "source": [
    "import heapq\n",
    "\n",
    "class PriorityQueue:\n",
    "    def __init__(self):\n",
    "        self.elements = []\n",
    "    \n",
    "    def empty(self):\n",
    "        return len(self.elements) == 0\n",
    "    \n",
    "    def put(self, item, priority):\n",
    "        heapq.heappush(self.elements, (priority, item))\n",
    "    \n",
    "    def get(self):\n",
    "        return heapq.heappop(self.elements)[1]"
   ]
  },
  {
   "cell_type": "code",
   "execution_count": 177,
   "metadata": {
    "collapsed": false
   },
   "outputs": [],
   "source": [
    "def a_star_search(graph, heuristic, start, goal, deltas, costs):\n",
    "    # initialize the cost so far\n",
    "    cost_so_far = {}\n",
    "    for i in range(len(graph)):\n",
    "        for j in range(len(graph[0])):\n",
    "            cost_so_far[(i,j)] = float('inf')\n",
    "    \n",
    "    start=(start[0], start[1])\n",
    "    \n",
    "    frontier = PriorityQueue()\n",
    "    frontier.put(start, 0)\n",
    "    \n",
    "    came_from = {}\n",
    "    came_from[start] = None\n",
    "    cost_so_far[start] = 0\n",
    "    \n",
    "    while not frontier.empty():\n",
    "        current = frontier.get()\n",
    "        \n",
    "        if current == goal:\n",
    "            break\n",
    "        \n",
    "        for i, delta in enumerate(deltas):\n",
    "            neighbor = (current[0]+delta[0],current[1]+delta[1])\n",
    "            new_cost = cost_so_far[current] + costs[i]\n",
    "            print(neighbor)\n",
    "            print(new_cost)\n",
    "            if neighbor in cost_so_far and new_cost < cost_so_far[neighbor]:\n",
    "                if graph[neighbor[0]][neighbor[1]] ==0 or neighbor == goal:\n",
    "                    cost_so_far[neighbor] = new_cost\n",
    "                    priority = new_cost + heuristic[neighbor]\n",
    "                    frontier.put(neighbor, priority)\n",
    "                    came_from[neighbor] = current\n",
    "    \n",
    "    return came_from, cost_so_far"
   ]
  },
  {
   "cell_type": "code",
   "execution_count": 178,
   "metadata": {
    "collapsed": false
   },
   "outputs": [
    {
     "name": "stdout",
     "output_type": "stream",
     "text": [
      "(3, 6)\n",
      "1.0\n",
      "(3, 5)\n",
      "1.5\n",
      "(4, 5)\n",
      "1.0\n",
      "(5, 5)\n",
      "1.5\n",
      "(5, 6)\n",
      "1.0\n",
      "(5, 7)\n",
      "1.5\n",
      "(4, 7)\n",
      "1.0\n",
      "(3, 7)\n",
      "1.5\n",
      "(3, 5)\n",
      "2.0\n",
      "(3, 4)\n",
      "2.5\n",
      "(4, 4)\n",
      "2.0\n",
      "(5, 4)\n",
      "2.5\n",
      "(5, 5)\n",
      "2.0\n",
      "(5, 6)\n",
      "2.5\n",
      "(4, 6)\n",
      "2.0\n",
      "(3, 6)\n",
      "2.5\n"
     ]
    }
   ],
   "source": [
    "came_from, cost= a_star_search(warehouse4, dist, dropzone4, (3,5), deltas, costs )"
   ]
  },
  {
   "cell_type": "code",
   "execution_count": 179,
   "metadata": {
    "collapsed": false
   },
   "outputs": [],
   "source": [
    "warehouse4 = [[ 1, 17, 5, 18,  9, 19,  13],\n",
    "              [ 2,  0, 6,  0, 10,  0,  14],\n",
    "              [ 3,  0, 7,  0, 11,  0,  15],\n",
    "              [ 4,  0, 8,  0, 12,  0,  16],\n",
    "              [ 0,  0, 0,  0,  0,  0, 'x']] \n",
    "dropzone4 = [4,6]\n",
    "todo4 = [13, 11, 6, 17]"
   ]
  },
  {
   "cell_type": "code",
   "execution_count": 191,
   "metadata": {
    "collapsed": false
   },
   "outputs": [],
   "source": [
    "def plan(warehouse, dropzone, todo):\n",
    "    import heapq\n",
    "    import numpy as np\n",
    "    \n",
    "    deltas = [[-1, 0],  # go up\n",
    "     [-1,-1], # go up-left\n",
    "     [0, -1],  # go left\n",
    "     [1, -1], # go down left\n",
    "     [1, 0],  # go down\n",
    "     [1, 1], # go down right\n",
    "     [0, 1],  # go right\n",
    "     [-1, 1]] # go right up\n",
    "\n",
    "    costs = [1.0,  # go up\n",
    "             1.5, # go up-left\n",
    "             1.0,  # go left\n",
    "             1.5, # go down left\n",
    "             1.0,  # go down\n",
    "             1.5, # go down right\n",
    "             1.0,  # go right\n",
    "             1.5] # go right up\n",
    "    def get_todo_index(warehouse,todo):\n",
    "        for i in range(len(warehouse)):\n",
    "            for j in range(len(warehouse[0])):\n",
    "                if warehouse[i][j] == todo:\n",
    "                    return (i,j)\n",
    "        return (-1,-1)\n",
    "\n",
    "    def create_heuristic(warehouse, start, deltas, costs):\n",
    "        # THIS IS JUST DIJIKSTRAS ALGORITHM\n",
    "        # initilize the hash tables to use\n",
    "        Q={}\n",
    "        prev={}\n",
    "        dist={}\n",
    "        #format source\n",
    "        source = (start[0], start[1])\n",
    "\n",
    "        # this initializes distance from source\n",
    "        # and previous node\n",
    "        for i in range(len(warehouse)):\n",
    "            for j in range(len(warehouse[0])):\n",
    "                dist[(i,j)] = float('inf')\n",
    "                prev[(i,j)] = None\n",
    "                Q[(i,j)] = (i,j)\n",
    "\n",
    "        dist[source] = 0\n",
    "        j=0\n",
    "        #while Q is not empty we get the vertex in Q with a minimum distance\n",
    "        while Q:\n",
    "            u = min(Q,key=dist.get)\n",
    "\n",
    "            #delete u from Q\n",
    "            Q.pop(u)\n",
    "            # each neighbor that is still in Q\n",
    "            for i, delta in enumerate(deltas):\n",
    "                neighbor = (u[0]+delta[0],u[1]+delta[1])\n",
    "                if neighbor in Q:\n",
    "                    alt = dist[u] + costs[i]\n",
    "                    if alt < dist[neighbor]:\n",
    "                        dist[neighbor] = alt\n",
    "                        prev[neighbor] = u\n",
    "\n",
    "        return dist, prev\n",
    "\n",
    "    class PriorityQueue:\n",
    "        def __init__(self):\n",
    "            self.elements = []\n",
    "\n",
    "        def empty(self):\n",
    "            return len(self.elements) == 0\n",
    "\n",
    "        def put(self, item, priority):\n",
    "            heapq.heappush(self.elements, (priority, item))\n",
    "\n",
    "        def get(self):\n",
    "            return heapq.heappop(self.elements)[1]\n",
    "        \n",
    "        \n",
    "    def a_star_search(graph, heuristic, start, goal, deltas, costs):\n",
    "        # initialize the cost so far\n",
    "        cost_so_far = {}\n",
    "        for i in range(len(graph)):\n",
    "            for j in range(len(graph[0])):\n",
    "                cost_so_far[(i,j)] = float('inf')\n",
    "\n",
    "        start=(start[0], start[1])\n",
    "\n",
    "        frontier = PriorityQueue()\n",
    "        frontier.put(start, 0)\n",
    "\n",
    "        came_from = {}\n",
    "        came_from[start] = None\n",
    "        cost_so_far[start] = 0\n",
    "\n",
    "        while not frontier.empty():\n",
    "            current = frontier.get()\n",
    "\n",
    "            if current == goal:\n",
    "                break\n",
    "\n",
    "            for i, delta in enumerate(deltas):\n",
    "                neighbor = (current[0]+delta[0],current[1]+delta[1])\n",
    "                new_cost = cost_so_far[current] + costs[i]\n",
    "                if neighbor in cost_so_far and new_cost < cost_so_far[neighbor]:\n",
    "                    if graph[neighbor[0]][neighbor[1]] ==0 or neighbor == goal:\n",
    "                        cost_so_far[neighbor] = new_cost\n",
    "                        priority = new_cost + heuristic[neighbor]\n",
    "                        frontier.put(neighbor, priority)\n",
    "                        came_from[neighbor] = current\n",
    "\n",
    "        return came_from, cost_so_far\n",
    "\n",
    "\n",
    "\n",
    "    warehouse[dropzone[0]][dropzone[1]] = 0\n",
    "    heuristic, _ = create_heuristic(warehouse, dropzone, deltas, costs)\n",
    "    total_cost = 0\n",
    "    for i, td in enumerate(todo):\n",
    "        x,y = get_todo_index(warehouse,td)\n",
    "        goal = (x,y)\n",
    "        path, cost = a_star_search(warehouse, heuristic, dropzone, goal, deltas, costs)\n",
    "        warehouse[goal[0]][goal[1]] = 0\n",
    "        total_cost += cost[goal]\n",
    "\n",
    "    return 2*total_cost"
   ]
  },
  {
   "cell_type": "code",
   "execution_count": 192,
   "metadata": {
    "collapsed": false
   },
   "outputs": [
    {
     "data": {
      "text/plain": [
       "9.0"
      ]
     },
     "execution_count": 192,
     "metadata": {},
     "output_type": "execute_result"
    }
   ],
   "source": [
    "warehouse1 = [[ 1, 2, 3],\n",
    "             [ 0, 0, 0],\n",
    "             [ 0, 0, 0]]\n",
    "dropzone1 = [2,0] \n",
    "todo1 = [2, 1]\n",
    "plan(warehouse1, dropzone1, todo1)"
   ]
  },
  {
   "cell_type": "code",
   "execution_count": 186,
   "metadata": {
    "collapsed": false
   },
   "outputs": [
    {
     "data": {
      "text/plain": [
       "(0, 0)"
      ]
     },
     "execution_count": 186,
     "metadata": {},
     "output_type": "execute_result"
    }
   ],
   "source": [
    "get_todo_index(warehouse1,todo1[1])"
   ]
  },
  {
   "cell_type": "code",
   "execution_count": 131,
   "metadata": {
    "collapsed": false
   },
   "outputs": [
    {
     "data": {
      "text/plain": [
       "0"
      ]
     },
     "execution_count": 131,
     "metadata": {},
     "output_type": "execute_result"
    }
   ],
   "source": [
    "goal[0][0]"
   ]
  },
  {
   "cell_type": "code",
   "execution_count": 86,
   "metadata": {
    "collapsed": false
   },
   "outputs": [
    {
     "name": "stdout",
     "output_type": "stream",
     "text": [
      "13\n"
     ]
    },
    {
     "name": "stderr",
     "output_type": "stream",
     "text": [
      "/home/johnny/anaconda2/envs/robotics/lib/python3.5/site-packages/ipykernel/__main__.py:19: FutureWarning: elementwise comparison failed; returning scalar instead, but in the future will perform elementwise comparison\n"
     ]
    },
    {
     "ename": "ValueError",
     "evalue": "not enough values to unpack (expected 2, got 1)",
     "output_type": "error",
     "traceback": [
      "\u001b[0;31m---------------------------------------------------------------------------\u001b[0m",
      "\u001b[0;31mValueError\u001b[0m                                Traceback (most recent call last)",
      "\u001b[0;32m<ipython-input-86-1522d4a96ec5>\u001b[0m in \u001b[0;36m<module>\u001b[0;34m()\u001b[0m\n\u001b[1;32m      1\u001b[0m \u001b[0;32mfor\u001b[0m \u001b[0mi\u001b[0m\u001b[0;34m,\u001b[0m \u001b[0mtd\u001b[0m \u001b[0;32min\u001b[0m \u001b[0menumerate\u001b[0m\u001b[0;34m(\u001b[0m\u001b[0mtodo4\u001b[0m\u001b[0;34m)\u001b[0m\u001b[0;34m:\u001b[0m\u001b[0;34m\u001b[0m\u001b[0m\n\u001b[1;32m      2\u001b[0m     \u001b[0mprint\u001b[0m\u001b[0;34m(\u001b[0m\u001b[0mtd\u001b[0m\u001b[0;34m)\u001b[0m\u001b[0;34m\u001b[0m\u001b[0m\n\u001b[0;32m----> 3\u001b[0;31m     \u001b[0mprint\u001b[0m\u001b[0;34m(\u001b[0m\u001b[0mget_todo_index\u001b[0m\u001b[0;34m(\u001b[0m\u001b[0mwarehouse\u001b[0m\u001b[0;34m,\u001b[0m\u001b[0mtd\u001b[0m\u001b[0;34m)\u001b[0m\u001b[0;34m)\u001b[0m\u001b[0;34m\u001b[0m\u001b[0m\n\u001b[0m",
      "\u001b[0;32m<ipython-input-80-7c027b630ee2>\u001b[0m in \u001b[0;36mget_todo_index\u001b[0;34m(warehouse, todo)\u001b[0m\n\u001b[1;32m     17\u001b[0m          1.5] # go right up\n\u001b[1;32m     18\u001b[0m \u001b[0;32mdef\u001b[0m \u001b[0mget_todo_index\u001b[0m\u001b[0;34m(\u001b[0m\u001b[0mwarehouse\u001b[0m\u001b[0;34m,\u001b[0m\u001b[0mtodo\u001b[0m\u001b[0;34m)\u001b[0m\u001b[0;34m:\u001b[0m\u001b[0;34m\u001b[0m\u001b[0m\n\u001b[0;32m---> 19\u001b[0;31m     \u001b[0mi\u001b[0m\u001b[0;34m,\u001b[0m \u001b[0mj\u001b[0m \u001b[0;34m=\u001b[0m \u001b[0mnp\u001b[0m\u001b[0;34m.\u001b[0m\u001b[0mwhere\u001b[0m\u001b[0;34m(\u001b[0m\u001b[0mnp\u001b[0m\u001b[0;34m.\u001b[0m\u001b[0marray\u001b[0m\u001b[0;34m(\u001b[0m\u001b[0mwarehouse\u001b[0m\u001b[0;34m)\u001b[0m\u001b[0;34m==\u001b[0m\u001b[0mtodo\u001b[0m\u001b[0;34m)\u001b[0m\u001b[0;34m\u001b[0m\u001b[0m\n\u001b[0m\u001b[1;32m     20\u001b[0m     \u001b[0;32mreturn\u001b[0m \u001b[0mi\u001b[0m\u001b[0;34m,\u001b[0m\u001b[0mj\u001b[0m\u001b[0;34m\u001b[0m\u001b[0m\n\u001b[1;32m     21\u001b[0m \u001b[0;34m\u001b[0m\u001b[0m\n",
      "\u001b[0;31mValueError\u001b[0m: not enough values to unpack (expected 2, got 1)"
     ]
    }
   ],
   "source": [
    "for i, td in enumerate(todo4):\n",
    "    print(td)\n",
    "    print(get_todo_index(warehouse,td))"
   ]
  },
  {
   "cell_type": "code",
   "execution_count": 87,
   "metadata": {
    "collapsed": false
   },
   "outputs": [
    {
     "data": {
      "text/plain": [
       "(array([], dtype=int64),)"
      ]
     },
     "execution_count": 87,
     "metadata": {},
     "output_type": "execute_result"
    }
   ],
   "source": [
    "np.where(warehouse==13)"
   ]
  },
  {
   "cell_type": "code",
   "execution_count": 27,
   "metadata": {
    "collapsed": false
   },
   "outputs": [
    {
     "data": {
      "text/plain": [
       "{(0, 0): inf,\n",
       " (0, 1): inf,\n",
       " (0, 2): inf,\n",
       " (0, 3): inf,\n",
       " (0, 4): inf,\n",
       " (0, 5): inf,\n",
       " (0, 6): inf,\n",
       " (1, 0): inf,\n",
       " (1, 1): inf,\n",
       " (1, 2): inf,\n",
       " (1, 3): inf,\n",
       " (1, 4): inf,\n",
       " (1, 5): inf,\n",
       " (1, 6): inf,\n",
       " (2, 0): inf,\n",
       " (2, 1): inf,\n",
       " (2, 2): inf,\n",
       " (2, 3): inf,\n",
       " (2, 4): inf,\n",
       " (2, 5): inf,\n",
       " (2, 6): inf,\n",
       " (3, 0): inf,\n",
       " (3, 1): inf,\n",
       " (3, 2): inf,\n",
       " (3, 3): inf,\n",
       " (3, 4): inf,\n",
       " (3, 5): inf,\n",
       " (3, 6): inf,\n",
       " (4, 0): inf,\n",
       " (4, 1): inf,\n",
       " (4, 2): inf,\n",
       " (4, 3): inf,\n",
       " (4, 4): inf,\n",
       " (4, 5): inf,\n",
       " (4, 6): 0}"
      ]
     },
     "execution_count": 27,
     "metadata": {},
     "output_type": "execute_result"
    }
   ],
   "source": [
    "dist"
   ]
  },
  {
   "cell_type": "code",
   "execution_count": null,
   "metadata": {
    "collapsed": true
   },
   "outputs": [],
   "source": []
  }
 ],
 "metadata": {
  "kernelspec": {
   "display_name": "Python 3",
   "language": "python",
   "name": "python3"
  },
  "language_info": {
   "codemirror_mode": {
    "name": "ipython",
    "version": 3
   },
   "file_extension": ".py",
   "mimetype": "text/x-python",
   "name": "python",
   "nbconvert_exporter": "python",
   "pygments_lexer": "ipython3",
   "version": "3.5.3"
  }
 },
 "nbformat": 4,
 "nbformat_minor": 2
}
